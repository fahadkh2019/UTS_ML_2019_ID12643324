{
  "nbformat": 4,
  "nbformat_minor": 0,
  "metadata": {
    "colab": {
      "name": "Assignment 3.ipynb",
      "provenance": [],
      "include_colab_link": true
    },
    "kernelspec": {
      "name": "python3",
      "display_name": "Python 3"
    }
  },
  "cells": [
    {
      "cell_type": "markdown",
      "metadata": {
        "id": "view-in-github",
        "colab_type": "text"
      },
      "source": [
        "<a href=\"https://colab.research.google.com/github/fahadkh2019/UTS_ML_2019_ID12643324/blob/master/Assignment_3.ipynb\" target=\"_parent\"><img src=\"https://colab.research.google.com/assets/colab-badge.svg\" alt=\"Open In Colab\"/></a>"
      ]
    },
    {
      "cell_type": "code",
      "metadata": {
        "id": "q376zfwyV7px",
        "colab_type": "code",
        "colab": {}
      },
      "source": [
        ""
      ],
      "execution_count": 0,
      "outputs": []
    },
    {
      "cell_type": "markdown",
      "metadata": {
        "id": "laUdyUA6V9v5",
        "colab_type": "text"
      },
      "source": [
        "#Assignment 3 : Take home Exam\n",
        "\n",
        "##31005 Machine Learning Spring 2019\n",
        "## Name : Fahad Khalid\n",
        "###Student Number: 12643324 \n",
        "\n",
        "##Introduction\n",
        "In this paper, I will be discussing the three challenges and their solution when the data analyst is used to sway or change people mind through analysing social media data. I will be providing some ideas to solve the hurdles or challenges faced during the  will provide some ideas to solve the challenges, and at the end of the paper, I will be listing the ethical problems that might be faced during the process.\n",
        "The main reason for implementing this kind of strategy is that social media usage has increased over the years and people are sharing their interests and private lives on social media. It is very easy for the marketing companies to access people these days and it was made possible only by social media boom. The huge increase in the use of social media has led to an increase in data accumulation, which is called social media big data.\n",
        "\n",
        "The social media analytics process involves four distinct steps i.e. data discovery ,collection, preparation and analysis. We will discuss these and try to find the solution as well.\n",
        "##Challenge 1: Relevant Data Discovery\n",
        "After the social media boom, the means to transfer the data or to communicate the data between people are endless. The main question for people or the marketing companies is to use the social media data to manipulate people’s opinion. The main problem or challenge during this is to discover relevant and correct data which relates to the use case. The main issue is because of the vast data, it is important to pick just the relevant data. The question is “How to get the relevant data?”\n",
        "##The solution\n",
        "After determining the steps, we analysed the characteristics of social media data. There\n",
        "are many similarities between social media data and big data. There are different tools and ways to narrow down the relevant data in social media. Some of the tools were provided by the social media websites, like, twitter analytics is one the tools provided by twitter. It shows us the detailed graphical analysis of the tweets and engagements of the tweet. It can be manipulated to get the latest trends and a lot of other stuff. One solution is to collect data on different platforms by\n",
        "building different models and algorithms. For example, character limitation requires a\n",
        "corresponding algorithm and model, which is consistent with the data extraction of Twitter\n",
        "social media. For the Facebook platform, the staff needs to build another model and algorithm\n",
        "to discover and track new data and collect them. Data scientists normally use predictive models that uses historical data to predict the future. For example ,classification model, forecast model are some of the examples.\n",
        "In general, most algorithms and models are universal, but in thedata analysis of social media, we should establish different data analysis models andalgorithms, corresponding to the framework for social media.  the enhanced discovery stage, before tracking data.\n",
        "##Challenge 2: Collecting the data\n",
        "As we know, social media data is a hug and we need to find a good way to save the ‘relevant ’data. McAfee, A., Brynjolfsson, E. (2012) has given us three  problems and challenges of\n",
        "big data and one is how we can actually store the data, which is, in actuality, big data. The relational database management system is one of the techniques to store and manipulate the data, but in case of big data, its very difficult for the according to different social media data collection, traditional structured query language cannot meet the needs of big data. \n",
        "##The solution\n",
        "A good way to store and manipulate data are the tools that are specifically available and used for big data. Uniquely, some companies even just keep the snapshots of social graphs and content in flat file S3(amazon cloud). Databases that use unstructured query statement languages are more efficient for social media data than traditional database storage systems. For the basic understanding of how data is stored or how you want to store, we can use MYSQL . for more advanced manipulation, we can use tools like apache HIVE which is essentially used to query the data which is stored in various databases. It is also very easy to integrate with other computer tools thus making it easier for the data analyst to manipulate the data.\n",
        " \n",
        "##Challenge 3: Preparation of the data for the Analysis\n",
        "Peter Norvig, Google’s director of research said, “We don’t have better algorithms. We just have more data.” In social media data, there is data that includes almost any topic\n",
        "from different devices, such as mobile phones, social networks, GPS, etc. and data types may\n",
        "also include more data types like Numbers, words, slang. To filter and check if the data is error free and doing it manually is almost nearly impossible. To deal with this, there are some Data preparation techniques that we can apply to check if the data has some errors. The more clean and prepared data is, the more accurate are the results.\n",
        "\n",
        "##The solution\n",
        "####Check for missing value\n",
        "The Missing Values in the data can not be identified manually,it can only be done using a tool or a software. There are different tools that can be used to check if the data has missing values.Some of the tools are KNIME, which is a basic tool.High level tool that can be used to prepare the big data is Altair Monarch which has more than 80 built-in data preparation functions. As we know, social media data is very diverse, and most of the data columns will hardly contain values. The existence of Missing Value is necessary, and how to deal with the Missing Value is one of the challenges. Usually, in data analysis, data with missing values are thrown away directly after the data type is selected.\n",
        "####Fill Missing values\n",
        "One of the ways to improve data preparation is to fill the missing values. Deleting the missing value is not a good practice as it alters the data base structure and can create bugs in the database. The best practice is to fill out the missing values. There are different practices in filling out the values.one of which is to create a global constant to fill the missing values as it does not make any sense to try and predict the missing value as it can also slow down the model as well. Another more better way is to calculate the mean of the similar values and then fill out the missing values with the mean value. It is the best practice. \n",
        "\n",
        "####Graphical Representation\n",
        "Graphing key fields can be a great way to get to know your data. Use histograms to get a feel for the distributions of key fields, pie charts to see values as a percent of the whole, and scatter plots for the all-important outlier detection (see below). Graphing data has the added benefit of making explanations of data profiling results to non-technical users much faster and more productive.\n",
        "\n",
        "##Ethical Issue and Social Consequence\n",
        "In most international codes of ethics, data collection should protect the privacy of\n",
        "individuals, as mentioned by IEEE and other organizations. Although we legally collect user information, collection and use of social media data is still a violation of the code of ethics.  if the data contains identifying information on participants or information that could be linked to identify participants, a complete review of the proposal will then be made by the board. The researcher will then have to explain why is it unavoidable to have identifying information to answer the research question and must also indicate how participants’ privacy and the confidentiality of the data will be protected. If the above said concerns are satisfactorily addressed, the researcher can then request for a waiver of consent\n",
        "\n",
        "##Reference\n",
        "1. Andrew McAfee & Erik Brynjolfsson, Oct 2012, Big Data: The Management Revolution,\n",
        "Viewed 11th Oct 2019 <https://hbr.org/2012/10/big-data-the-managementrevolution>\n",
        "2. . T,Prasad, Dec 2013, Secondary Data Analysis: Ethical issues and Challenges,\n",
        "Viewed 11th  Oct 2019 <https://www.ncbi.nlm.nih.gov/pmc/articles/PMC4441947/>\n",
        "3. ACS, 2019, Australian Computer Society, Viewed 11th Oct 2019,\n",
        "<https://www.acs.org.au/>\n",
        "4. Steve Ludwig, September 2018, Overcoming Data Preparation Challenges, Viewed 11th Oct 2019,\n",
        "<https://lityx.com/overcoming-data-preparation-challenges/>\n",
        "5. IEEE, 2019, IEEE Compliance, Viewed 11th Oct 2019,\n",
        "<https://www.ieee.org/about/compliance.html>\n",
        "6. McAfee, A. & Brynjolfsson, E., Oct 2012, Big Data. Harvard Business Review, (October)\n",
        "Pages 60-68\n",
        "7. Stefan Stieglitza & Milad Mirbabaie & Björn Ross & Christoph Neuberger, Social media\n",
        "analytics – Challenges in topic discovery, data collection, and data preparation,\n",
        "Volume 39, April 2018, Pages 156-168\n"
      ]
    },
    {
      "cell_type": "code",
      "metadata": {
        "id": "gx7ZbAJmwE6x",
        "colab_type": "code",
        "colab": {}
      },
      "source": [
        ""
      ],
      "execution_count": 0,
      "outputs": []
    }
  ]
}