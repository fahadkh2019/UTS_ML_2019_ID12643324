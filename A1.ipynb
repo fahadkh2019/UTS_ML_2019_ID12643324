{
  "nbformat": 4,
  "nbformat_minor": 0,
  "metadata": {
    "colab": {
      "name": "A1.ipynb",
      "version": "0.3.2",
      "provenance": [],
      "include_colab_link": true
    },
    "kernelspec": {
      "name": "python3",
      "display_name": "Python 3"
    }
  },
  "cells": [
    {
      "cell_type": "markdown",
      "metadata": {
        "id": "view-in-github",
        "colab_type": "text"
      },
      "source": [
        "<a href=\"https://colab.research.google.com/github/fahadkh2019/UTS_ML_2019_ID12643324/blob/master/A1.ipynb\" target=\"_parent\"><img src=\"https://colab.research.google.com/assets/colab-badge.svg\" alt=\"Open In Colab\"/></a>"
      ]
    },
    {
      "cell_type": "code",
      "metadata": {
        "id": "BI7Hue5BNLqs",
        "colab_type": "code",
        "colab": {}
      },
      "source": [
        ""
      ],
      "execution_count": 0,
      "outputs": []
    },
    {
      "cell_type": "markdown",
      "metadata": {
        "id": "pmH3twrKR-bP",
        "colab_type": "text"
      },
      "source": [
        "# **Review Report on \"Generative Adverserial Nets\"**"
      ]
    },
    {
      "cell_type": "markdown",
      "metadata": {
        "id": "yjkOCmncRgPv",
        "colab_type": "text"
      },
      "source": [
        "## Introduction "
      ]
    },
    {
      "cell_type": "markdown",
      "metadata": {
        "id": "TSC2XRrgONRX",
        "colab_type": "text"
      },
      "source": [
        "Generative Adverserial Nets or in short form \"GAN\" is one of the forms of generative models which means that this model can be used to generate new content.The method that has been used to acheive this is by training two models simultaneously.A generative model that captures the data and the discriminative model that estimates the probability that the sample came from training data rather then model data. This adverserial process is used to improve the artificial intelligence specially facial recognition. This process or framework helps to overcome the difficulties and challenges faced by the generative models due to the lack of estimation of probability of a distributed data.So, in short,This framework is used to improve and remove the difficulties in generative models by applying a new algorithm. "
      ]
    },
    {
      "cell_type": "markdown",
      "metadata": {
        "id": "__Uauef3ODKG",
        "colab_type": "text"
      },
      "source": [
        "## Content"
      ]
    },
    {
      "cell_type": "markdown",
      "metadata": {
        "id": "PTggmSNc5fpY",
        "colab_type": "text"
      },
      "source": [
        "  The research paper is about a framework for the generative model and to come up with a framework that will help to overcome the difficulties a generative models have in the past. It has used two opposite models simultaneously to improve the model data and distinguish between the model sample or a data sample. The article in discussion has used a special case in which the generative model creates samples by passing random noises through a Multilayer perceptron and the discriminative model is also a Multilayer perceptron. This special case is referred as **Adverserial net** .\n",
        "\n",
        "  The main focus of the article is to use Multilayer perceptron in creating generative model with the help of discriminative model. A theoram has been proved in this article that the adverserial modeling framework is most easy when both the models are multilayer perceptrons.The generator data can be learned through defining input noise variable and representing data space mapping represented by a multilayer perceptron with parameters. We also define a discriminative multilayer perceptron that outputs a single scaler.\n",
        "  \n",
        "<img src=\"https://github.com/fahadkh2019/UTS_ML_2019_ID12643324/blob/master/equation.JPG?raw=true\" width=\"500\">\n",
        "\n",
        "where G is generative model and D is discriminative models presented through multilayer perceptron.z is the noise variable. In practice, the above equation will not work as we want as we must use the minmax game using an iterative and numerical approach and the above equation may not provide sufficient gradient for G. So, this article is focused on solving and finding the optimal algorithm and theoram to overcome these issues.\n",
        "      "
      ]
    },
    {
      "cell_type": "markdown",
      "metadata": {
        "id": "Yr0aiEU4Vprv",
        "colab_type": "text"
      },
      "source": [
        "## Innovation"
      ]
    },
    {
      "cell_type": "markdown",
      "metadata": {
        "id": "rXV2MqIeWipQ",
        "colab_type": "text"
      },
      "source": [
        "  In this section, i will be checking the novelty of the research paper and will determine the innovation and creativity of the research paper.\n",
        "\n",
        "  The background at the time of the work is that people understood the problem as it is very difficult to get the probability of a data accurately while generating the new variables or images.GAN offers a framwork that can create the new variables and images accurately enough.GAN's potential is huge, because they can learn to mimic any distribution of data. That is, GANs can be taught to create worlds eerily similar to our own in any domain i.e. images, music, speech, prose. They are robot artists in a sense, and their output is impressive – poignant even.\n",
        "  \n",
        " The creative idea that this research paper brings is that it uses two opposite models to work together and make each other to perform better by applying and training the models in an opposite way. The discriminative model is used to identify the probability of generative data.One neural network, called the generator, generates new data instances, while the other, the discriminator, evaluates them for authenticity; i.e. the discriminator decides whether each instance of data that it reviews belongs to the actual training dataset or not.The generator is creating new, synthetic images that it passes to the discriminator. It does so in the hopes that they, too, will be deemed authentic, even though they are fake. The goal of the generator is to generate passable hand-written digits: to lie without being caught. The goal of the discriminator is to identify images coming from the generator as fake.The article has introduced a new way of learning deep represenations without extensively annotated training data.They achieve this through deriving backpropagation signals through a competitive process involving a pair of networks. .So, the innovation and novelty of this research paper is intact and the researchers have thought of a framework that is new and have never been implmented before. This framework will help to improve the generative models and its applications.\n"
      ]
    },
    {
      "cell_type": "markdown",
      "metadata": {
        "id": "kqeCDlYGHNku",
        "colab_type": "text"
      },
      "source": [
        "## Technical Quality"
      ]
    },
    {
      "cell_type": "markdown",
      "metadata": {
        "id": "Wo8vUiwbN4Uv",
        "colab_type": "text"
      },
      "source": [
        "In my opinion, the technical quality of the paper is good but can be improved. There are some ways to improve the visual quality of the GAN generated image.In typical GAN architectures, the discriminator block is designed mainly to capture the class-specific content from images without explicitly imposing constraints on the visual quality of the generated images. For example,A key insight from the image quality assessment literature is that natural scenes possess a very unique local structural and statistical signature, and that distortions affect this signature.This improvement can be made by translating this insight into a constraint on the loss function of the discriminator in the GAN architecture with the goal of improving the visual quality of the generated images.What it will do is to increase the generator model performance.\n",
        "\n",
        "Another downside or a poor thing in GAN is the slow training process of generator model. The gradient of generator vanishes with time.This can be impoved by applying different techniques to generator model.We know that training GAN is already hard and we also know that it uses unlabeled data to train. One thing we can do to improve the slowness is by adding the label as part of the latent space z.\n",
        "\n",
        "There are many other options that we can use to omptimize the performance of GAN like Historical averaging,one-sided label smoothing,Minibatch discrimination etc(Hui,2018) but if we consider the overall impact of GAN, i can easily say that the quality of the research paper is good but there is always a need of improvement in everything. The advantage of GAN is that Markov chains are never used and only backprop is used to create gradients and no inference is required during learning and there is a possibility of adding different functions to the model to impove the performace.\n",
        "\n"
      ]
    },
    {
      "cell_type": "markdown",
      "metadata": {
        "id": "jDNnrdsjY-mX",
        "colab_type": "text"
      },
      "source": [
        "## Application and X-factor"
      ]
    },
    {
      "cell_type": "markdown",
      "metadata": {
        "id": "Zn3-g0EUZQSD",
        "colab_type": "text"
      },
      "source": [
        "In my opinion, the applications of GAN are appropriate of the technique used in GAN. GAN Technique is used to generate new content from deep representations. I find the proposals in the paper promising as it has given a new direction to the artificial intelligence.It has made the computerised image generation relatively easy and workable.The other domains that can be explored by using this technique are text to image generation,generating videos automatically for example, giving a script and the system will automatically create a movie. There have been some improvements in GAN for example DCGAN which is an improvement on GAN that improves the image quality and result of the GAN.The X-factor, in my opnion is that when you don’t have a lot of data for a problem, you can use adversarial networks to “generate” more data, instead of resorting to the tricks like data augmentation."
      ]
    },
    {
      "cell_type": "markdown",
      "metadata": {
        "id": "je3oGOOEuJdp",
        "colab_type": "text"
      },
      "source": [
        "## Presentation"
      ]
    },
    {
      "cell_type": "markdown",
      "metadata": {
        "id": "FWIhNmBhvbMz",
        "colab_type": "text"
      },
      "source": [
        "Presentation in my opinion was not that good granted there are a lot of concepts and the authors tried to explain it well but in my opinion, there was a lot of math and algorithms but too less explanation. The explanation part was lacking. The arguments presented by the authors were easy to follow and understand. The clarity was lacking in the paper which can be improved by having more explanation of the maths and algorithms.The presentation style was good in the paper i.e. the theorem was followed up with the argument."
      ]
    },
    {
      "cell_type": "markdown",
      "metadata": {
        "id": "Y8N1sEFwvfNI",
        "colab_type": "text"
      },
      "source": [
        "## Reference"
      ]
    },
    {
      "cell_type": "markdown",
      "metadata": {
        "id": "BgW_3DEeviT2",
        "colab_type": "text"
      },
      "source": [
        "Hui, J. 2018, GAN — Ways to improve GAN performance, viewed 28 August 2019, <https://towardsdatascience.com/gan-ways-to-improve-gan-performance-acf37f9f59b>.\n",
        "\n",
        "\n",
        "Rocca, J. 2019, Understanding Generative Adversarial Networks (GANs), viewed 28 August 2019, <https://towardsdatascience.com/understanding-generative-adversarial-networks-gans-cd6e4651a29>.\n"
      ]
    },
    {
      "cell_type": "code",
      "metadata": {
        "id": "8Zay8LnZwUTn",
        "colab_type": "code",
        "colab": {}
      },
      "source": [
        ""
      ],
      "execution_count": 0,
      "outputs": []
    }
  ]
}