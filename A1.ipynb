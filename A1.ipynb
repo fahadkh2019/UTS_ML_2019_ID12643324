{
  "nbformat": 4,
  "nbformat_minor": 0,
  "metadata": {
    "colab": {
      "name": "A1.ipynb",
      "version": "0.3.2",
      "provenance": [],
      "include_colab_link": true
    },
    "kernelspec": {
      "name": "python3",
      "display_name": "Python 3"
    }
  },
  "cells": [
    {
      "cell_type": "markdown",
      "metadata": {
        "id": "view-in-github",
        "colab_type": "text"
      },
      "source": [
        "<a href=\"https://colab.research.google.com/github/fahadkh2019/UTS_ML_2019_ID12643324/blob/master/A1.ipynb\" target=\"_parent\"><img src=\"https://colab.research.google.com/assets/colab-badge.svg\" alt=\"Open In Colab\"/></a>"
      ]
    },
    {
      "cell_type": "code",
      "metadata": {
        "id": "BI7Hue5BNLqs",
        "colab_type": "code",
        "colab": {}
      },
      "source": [
        ""
      ],
      "execution_count": 0,
      "outputs": []
    },
    {
      "cell_type": "markdown",
      "metadata": {
        "id": "pmH3twrKR-bP",
        "colab_type": "text"
      },
      "source": [
        "# **Review Report on \"Generative Adverserial Nets\"**"
      ]
    },
    {
      "cell_type": "markdown",
      "metadata": {
        "id": "yjkOCmncRgPv",
        "colab_type": "text"
      },
      "source": [
        "## Introduction "
      ]
    },
    {
      "cell_type": "markdown",
      "metadata": {
        "id": "TSC2XRrgONRX",
        "colab_type": "text"
      },
      "source": [
        "Generative Adverserial Nets or in short form \"GAN\" is one of the forms of generative models which means that this model can be used to generate new content.The method that has been used to acheive this is by training two models simultaneously.A generative model that captures the data and the discriminative model that estimates the probability that the sample came from training data rather then model data. This adverserial process is used to improve the artificial intelligence specially facial recognition. This process or framework helps to overcome the difficulties and challenges faced by the generative models due to the lack of estimation of probability of a distributed data.So, in short,This framework is used to improve and remove the difficulties in generative models by applying a new algorithm. "
      ]
    },
    {
      "cell_type": "markdown",
      "metadata": {
        "id": "__Uauef3ODKG",
        "colab_type": "text"
      },
      "source": [
        "## Content"
      ]
    },
    {
      "cell_type": "code",
      "metadata": {
        "id": "Rhi1i4gscUmU",
        "colab_type": "code",
        "colab": {}
      },
      "source": [
        ""
      ],
      "execution_count": 0,
      "outputs": []
    }
  ]
}